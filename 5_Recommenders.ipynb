{
 "cells": [
  {
   "cell_type": "markdown",
   "id": "147d8a71-3016-4c19-aa37-467edbd5a8bb",
   "metadata": {},
   "source": [
    "# Recommenders"
   ]
  },
  {
   "cell_type": "markdown",
   "id": "ea54ce14-78b7-4ca3-8231-cfe53736f8ed",
   "metadata": {},
   "source": [
    "## Content-Based Filtering"
   ]
  },
  {
   "cell_type": "markdown",
   "id": "678bb25a-1154-419f-bcd7-0fc271438a78",
   "metadata": {},
   "source": [
    "### Cosine Similarity"
   ]
  },
  {
   "cell_type": "code",
   "execution_count": 2,
   "id": "0bb2a75a-ae2c-4b02-9142-670dfc82f39e",
   "metadata": {},
   "outputs": [
    {
     "data": {
      "text/html": [
       "<div>\n",
       "<style scoped>\n",
       "    .dataframe tbody tr th:only-of-type {\n",
       "        vertical-align: middle;\n",
       "    }\n",
       "\n",
       "    .dataframe tbody tr th {\n",
       "        vertical-align: top;\n",
       "    }\n",
       "\n",
       "    .dataframe thead th {\n",
       "        text-align: right;\n",
       "    }\n",
       "</style>\n",
       "<table border=\"1\" class=\"dataframe\">\n",
       "  <thead>\n",
       "    <tr style=\"text-align: right;\">\n",
       "      <th></th>\n",
       "      <th>fruit_100g</th>\n",
       "      <th>energy_kcal</th>\n",
       "      <th>water_g</th>\n",
       "      <th>protein_g</th>\n",
       "      <th>totalfat_g</th>\n",
       "      <th>fiber_g</th>\n",
       "      <th>sugars_g</th>\n",
       "      <th>vitaminc_mg</th>\n",
       "    </tr>\n",
       "  </thead>\n",
       "  <tbody>\n",
       "    <tr>\n",
       "      <th>0</th>\n",
       "      <td>Banana</td>\n",
       "      <td>89</td>\n",
       "      <td>74.9</td>\n",
       "      <td>1.09</td>\n",
       "      <td>0.33</td>\n",
       "      <td>2.6</td>\n",
       "      <td>12.20</td>\n",
       "      <td>8.7</td>\n",
       "    </tr>\n",
       "    <tr>\n",
       "      <th>1</th>\n",
       "      <td>Lemon</td>\n",
       "      <td>29</td>\n",
       "      <td>89.0</td>\n",
       "      <td>1.10</td>\n",
       "      <td>0.30</td>\n",
       "      <td>2.8</td>\n",
       "      <td>2.50</td>\n",
       "      <td>53.0</td>\n",
       "    </tr>\n",
       "    <tr>\n",
       "      <th>2</th>\n",
       "      <td>Lime</td>\n",
       "      <td>30</td>\n",
       "      <td>88.3</td>\n",
       "      <td>0.70</td>\n",
       "      <td>0.20</td>\n",
       "      <td>2.8</td>\n",
       "      <td>1.69</td>\n",
       "      <td>29.1</td>\n",
       "    </tr>\n",
       "    <tr>\n",
       "      <th>3</th>\n",
       "      <td>Mango</td>\n",
       "      <td>46</td>\n",
       "      <td>88.3</td>\n",
       "      <td>0.91</td>\n",
       "      <td>0.27</td>\n",
       "      <td>1.5</td>\n",
       "      <td>8.39</td>\n",
       "      <td>4.1</td>\n",
       "    </tr>\n",
       "    <tr>\n",
       "      <th>4</th>\n",
       "      <td>Peach</td>\n",
       "      <td>60</td>\n",
       "      <td>83.5</td>\n",
       "      <td>0.82</td>\n",
       "      <td>0.38</td>\n",
       "      <td>1.6</td>\n",
       "      <td>13.70</td>\n",
       "      <td>36.4</td>\n",
       "    </tr>\n",
       "    <tr>\n",
       "      <th>5</th>\n",
       "      <td>Pineapple</td>\n",
       "      <td>50</td>\n",
       "      <td>86.0</td>\n",
       "      <td>0.54</td>\n",
       "      <td>0.12</td>\n",
       "      <td>1.4</td>\n",
       "      <td>9.85</td>\n",
       "      <td>47.8</td>\n",
       "    </tr>\n",
       "  </tbody>\n",
       "</table>\n",
       "</div>"
      ],
      "text/plain": [
       "  fruit_100g  energy_kcal  water_g  protein_g  totalfat_g  fiber_g  sugars_g  \\\n",
       "0     Banana           89     74.9       1.09        0.33      2.6     12.20   \n",
       "1      Lemon           29     89.0       1.10        0.30      2.8      2.50   \n",
       "2       Lime           30     88.3       0.70        0.20      2.8      1.69   \n",
       "3      Mango           46     88.3       0.91        0.27      1.5      8.39   \n",
       "4      Peach           60     83.5       0.82        0.38      1.6     13.70   \n",
       "5  Pineapple           50     86.0       0.54        0.12      1.4      9.85   \n",
       "\n",
       "   vitaminc_mg  \n",
       "0          8.7  \n",
       "1         53.0  \n",
       "2         29.1  \n",
       "3          4.1  \n",
       "4         36.4  \n",
       "5         47.8  "
      ]
     },
     "execution_count": 2,
     "metadata": {},
     "output_type": "execute_result"
    }
   ],
   "source": [
    "import pandas as pd\n",
    "\n",
    "fruit_nutrition = pd.read_csv('Data/fruit_nutrition.csv')\n",
    "fruit_nutrition"
   ]
  },
  {
   "cell_type": "code",
   "execution_count": 5,
   "id": "91c18d9d-20d6-415b-8cc8-df75749e8b89",
   "metadata": {},
   "outputs": [
    {
     "data": {
      "text/html": [
       "<div>\n",
       "<style scoped>\n",
       "    .dataframe tbody tr th:only-of-type {\n",
       "        vertical-align: middle;\n",
       "    }\n",
       "\n",
       "    .dataframe tbody tr th {\n",
       "        vertical-align: top;\n",
       "    }\n",
       "\n",
       "    .dataframe thead th {\n",
       "        text-align: right;\n",
       "    }\n",
       "</style>\n",
       "<table border=\"1\" class=\"dataframe\">\n",
       "  <thead>\n",
       "    <tr style=\"text-align: right;\">\n",
       "      <th></th>\n",
       "      <th>energy_kcal</th>\n",
       "      <th>water_g</th>\n",
       "      <th>protein_g</th>\n",
       "      <th>totalfat_g</th>\n",
       "      <th>fiber_g</th>\n",
       "      <th>sugars_g</th>\n",
       "      <th>vitaminc_mg</th>\n",
       "    </tr>\n",
       "  </thead>\n",
       "  <tbody>\n",
       "    <tr>\n",
       "      <th>Banana</th>\n",
       "      <td>89</td>\n",
       "      <td>74.9</td>\n",
       "      <td>1.09</td>\n",
       "      <td>0.33</td>\n",
       "      <td>2.6</td>\n",
       "      <td>12.20</td>\n",
       "      <td>8.7</td>\n",
       "    </tr>\n",
       "    <tr>\n",
       "      <th>Lemon</th>\n",
       "      <td>29</td>\n",
       "      <td>89.0</td>\n",
       "      <td>1.10</td>\n",
       "      <td>0.30</td>\n",
       "      <td>2.8</td>\n",
       "      <td>2.50</td>\n",
       "      <td>53.0</td>\n",
       "    </tr>\n",
       "    <tr>\n",
       "      <th>Lime</th>\n",
       "      <td>30</td>\n",
       "      <td>88.3</td>\n",
       "      <td>0.70</td>\n",
       "      <td>0.20</td>\n",
       "      <td>2.8</td>\n",
       "      <td>1.69</td>\n",
       "      <td>29.1</td>\n",
       "    </tr>\n",
       "    <tr>\n",
       "      <th>Mango</th>\n",
       "      <td>46</td>\n",
       "      <td>88.3</td>\n",
       "      <td>0.91</td>\n",
       "      <td>0.27</td>\n",
       "      <td>1.5</td>\n",
       "      <td>8.39</td>\n",
       "      <td>4.1</td>\n",
       "    </tr>\n",
       "    <tr>\n",
       "      <th>Peach</th>\n",
       "      <td>60</td>\n",
       "      <td>83.5</td>\n",
       "      <td>0.82</td>\n",
       "      <td>0.38</td>\n",
       "      <td>1.6</td>\n",
       "      <td>13.70</td>\n",
       "      <td>36.4</td>\n",
       "    </tr>\n",
       "    <tr>\n",
       "      <th>Pineapple</th>\n",
       "      <td>50</td>\n",
       "      <td>86.0</td>\n",
       "      <td>0.54</td>\n",
       "      <td>0.12</td>\n",
       "      <td>1.4</td>\n",
       "      <td>9.85</td>\n",
       "      <td>47.8</td>\n",
       "    </tr>\n",
       "  </tbody>\n",
       "</table>\n",
       "</div>"
      ],
      "text/plain": [
       "           energy_kcal  water_g  protein_g  totalfat_g  fiber_g  sugars_g  \\\n",
       "Banana              89     74.9       1.09        0.33      2.6     12.20   \n",
       "Lemon               29     89.0       1.10        0.30      2.8      2.50   \n",
       "Lime                30     88.3       0.70        0.20      2.8      1.69   \n",
       "Mango               46     88.3       0.91        0.27      1.5      8.39   \n",
       "Peach               60     83.5       0.82        0.38      1.6     13.70   \n",
       "Pineapple           50     86.0       0.54        0.12      1.4      9.85   \n",
       "\n",
       "           vitaminc_mg  \n",
       "Banana             8.7  \n",
       "Lemon             53.0  \n",
       "Lime              29.1  \n",
       "Mango              4.1  \n",
       "Peach             36.4  \n",
       "Pineapple         47.8  "
      ]
     },
     "execution_count": 5,
     "metadata": {},
     "output_type": "execute_result"
    }
   ],
   "source": [
    "nutrition = fruit_nutrition.set_index('fruit_100g')\n",
    "nutrition.index.name = None\n",
    "nutrition"
   ]
  },
  {
   "cell_type": "code",
   "execution_count": 6,
   "id": "399fdde9-e652-42d2-acd3-77e0900b23ff",
   "metadata": {},
   "outputs": [
    {
     "data": {
      "text/html": [
       "<div>\n",
       "<style scoped>\n",
       "    .dataframe tbody tr th:only-of-type {\n",
       "        vertical-align: middle;\n",
       "    }\n",
       "\n",
       "    .dataframe tbody tr th {\n",
       "        vertical-align: top;\n",
       "    }\n",
       "\n",
       "    .dataframe thead th {\n",
       "        text-align: right;\n",
       "    }\n",
       "</style>\n",
       "<table border=\"1\" class=\"dataframe\">\n",
       "  <thead>\n",
       "    <tr style=\"text-align: right;\">\n",
       "      <th></th>\n",
       "      <th>sugars_g</th>\n",
       "      <th>vitaminc_mg</th>\n",
       "    </tr>\n",
       "  </thead>\n",
       "  <tbody>\n",
       "    <tr>\n",
       "      <th>Banana</th>\n",
       "      <td>12.20</td>\n",
       "      <td>8.7</td>\n",
       "    </tr>\n",
       "    <tr>\n",
       "      <th>Lemon</th>\n",
       "      <td>2.50</td>\n",
       "      <td>53.0</td>\n",
       "    </tr>\n",
       "    <tr>\n",
       "      <th>Lime</th>\n",
       "      <td>1.69</td>\n",
       "      <td>29.1</td>\n",
       "    </tr>\n",
       "    <tr>\n",
       "      <th>Mango</th>\n",
       "      <td>8.39</td>\n",
       "      <td>4.1</td>\n",
       "    </tr>\n",
       "    <tr>\n",
       "      <th>Peach</th>\n",
       "      <td>13.70</td>\n",
       "      <td>36.4</td>\n",
       "    </tr>\n",
       "    <tr>\n",
       "      <th>Pineapple</th>\n",
       "      <td>9.85</td>\n",
       "      <td>47.8</td>\n",
       "    </tr>\n",
       "  </tbody>\n",
       "</table>\n",
       "</div>"
      ],
      "text/plain": [
       "           sugars_g  vitaminc_mg\n",
       "Banana        12.20          8.7\n",
       "Lemon          2.50         53.0\n",
       "Lime           1.69         29.1\n",
       "Mango          8.39          4.1\n",
       "Peach         13.70         36.4\n",
       "Pineapple      9.85         47.8"
      ]
     },
     "execution_count": 6,
     "metadata": {},
     "output_type": "execute_result"
    }
   ],
   "source": [
    "df = nutrition.iloc[:,5:]\n",
    "df"
   ]
  },
  {
   "cell_type": "code",
   "execution_count": 7,
   "id": "b556256c-ecaf-4c42-9fe1-56fefc45b044",
   "metadata": {},
   "outputs": [],
   "source": [
    "from sklearn.metrics.pairwise import cosine_similarity"
   ]
  },
  {
   "cell_type": "code",
   "execution_count": 10,
   "id": "ba017b8a-e50f-425b-991b-30cbfb832f2f",
   "metadata": {},
   "outputs": [
    {
     "data": {
      "text/plain": [
       "0.9864305980007304"
      ]
     },
     "execution_count": 10,
     "metadata": {},
     "output_type": "execute_result"
    }
   ],
   "source": [
    "cosine_similarity(df.loc[['Mango', 'Banana']])[0][1]"
   ]
  },
  {
   "cell_type": "code",
   "execution_count": 11,
   "id": "f131ffb9-94e5-494b-a24a-7ed86ee41ab9",
   "metadata": {},
   "outputs": [
    {
     "data": {
      "text/plain": [
       "array([[1.       , 0.9864306],\n",
       "       [0.9864306, 1.       ]])"
      ]
     },
     "execution_count": 11,
     "metadata": {},
     "output_type": "execute_result"
    }
   ],
   "source": [
    "cosine_similarity(df.loc[['Mango', 'Banana']])"
   ]
  },
  {
   "cell_type": "code",
   "execution_count": 14,
   "id": "46526a3e-bcaf-4c7a-a4e2-707a07e999fa",
   "metadata": {},
   "outputs": [],
   "source": [
    "# show each row of the array on one line\n",
    "import numpy as np\n",
    "\n",
    "# set linewidth to a large value to prevent wrapping\n",
    "np.set_printoptions(linewidth=np.inf)"
   ]
  },
  {
   "cell_type": "code",
   "execution_count": 15,
   "id": "35446de9-a86f-497f-a7de-12a38550e984",
   "metadata": {},
   "outputs": [
    {
     "data": {
      "text/plain": [
       "array([[1.        , 0.61832414, 0.62683477, 0.9864306 , 0.83018982, 0.73298243],\n",
       "       [0.61832414, 1.        , 0.99994086, 0.48090193, 0.95146351, 0.98784307],\n",
       "       [0.62683477, 0.99994086, 1.        , 0.49040872, 0.95475426, 0.98947527],\n",
       "       [0.9864306 , 0.48090193, 0.49040872, 1.        , 0.72739811, 0.61135407],\n",
       "       [0.83018982, 0.95146351, 0.95475426, 0.72739811, 1.        , 0.98773952],\n",
       "       [0.73298243, 0.98784307, 0.98947527, 0.61135407, 0.98773952, 1.        ]])"
      ]
     },
     "execution_count": 15,
     "metadata": {},
     "output_type": "execute_result"
    }
   ],
   "source": [
    "cosine_similarity(df)"
   ]
  },
  {
   "cell_type": "code",
   "execution_count": 18,
   "id": "883e2c57-71ee-4783-ad6d-986012d074cb",
   "metadata": {},
   "outputs": [
    {
     "data": {
      "text/html": [
       "<div>\n",
       "<style scoped>\n",
       "    .dataframe tbody tr th:only-of-type {\n",
       "        vertical-align: middle;\n",
       "    }\n",
       "\n",
       "    .dataframe tbody tr th {\n",
       "        vertical-align: top;\n",
       "    }\n",
       "\n",
       "    .dataframe thead th {\n",
       "        text-align: right;\n",
       "    }\n",
       "</style>\n",
       "<table border=\"1\" class=\"dataframe\">\n",
       "  <thead>\n",
       "    <tr style=\"text-align: right;\">\n",
       "      <th></th>\n",
       "      <th>Banana</th>\n",
       "      <th>Lemon</th>\n",
       "      <th>Lime</th>\n",
       "      <th>Mango</th>\n",
       "      <th>Peach</th>\n",
       "      <th>Pineapple</th>\n",
       "    </tr>\n",
       "  </thead>\n",
       "  <tbody>\n",
       "    <tr>\n",
       "      <th>Banana</th>\n",
       "      <td>1.000000</td>\n",
       "      <td>0.618324</td>\n",
       "      <td>0.626835</td>\n",
       "      <td>0.986431</td>\n",
       "      <td>0.830190</td>\n",
       "      <td>0.732982</td>\n",
       "    </tr>\n",
       "    <tr>\n",
       "      <th>Lemon</th>\n",
       "      <td>0.618324</td>\n",
       "      <td>1.000000</td>\n",
       "      <td>0.999941</td>\n",
       "      <td>0.480902</td>\n",
       "      <td>0.951464</td>\n",
       "      <td>0.987843</td>\n",
       "    </tr>\n",
       "    <tr>\n",
       "      <th>Lime</th>\n",
       "      <td>0.626835</td>\n",
       "      <td>0.999941</td>\n",
       "      <td>1.000000</td>\n",
       "      <td>0.490409</td>\n",
       "      <td>0.954754</td>\n",
       "      <td>0.989475</td>\n",
       "    </tr>\n",
       "    <tr>\n",
       "      <th>Mango</th>\n",
       "      <td>0.986431</td>\n",
       "      <td>0.480902</td>\n",
       "      <td>0.490409</td>\n",
       "      <td>1.000000</td>\n",
       "      <td>0.727398</td>\n",
       "      <td>0.611354</td>\n",
       "    </tr>\n",
       "    <tr>\n",
       "      <th>Peach</th>\n",
       "      <td>0.830190</td>\n",
       "      <td>0.951464</td>\n",
       "      <td>0.954754</td>\n",
       "      <td>0.727398</td>\n",
       "      <td>1.000000</td>\n",
       "      <td>0.987740</td>\n",
       "    </tr>\n",
       "    <tr>\n",
       "      <th>Pineapple</th>\n",
       "      <td>0.732982</td>\n",
       "      <td>0.987843</td>\n",
       "      <td>0.989475</td>\n",
       "      <td>0.611354</td>\n",
       "      <td>0.987740</td>\n",
       "      <td>1.000000</td>\n",
       "    </tr>\n",
       "  </tbody>\n",
       "</table>\n",
       "</div>"
      ],
      "text/plain": [
       "             Banana     Lemon      Lime     Mango     Peach  Pineapple\n",
       "Banana     1.000000  0.618324  0.626835  0.986431  0.830190   0.732982\n",
       "Lemon      0.618324  1.000000  0.999941  0.480902  0.951464   0.987843\n",
       "Lime       0.626835  0.999941  1.000000  0.490409  0.954754   0.989475\n",
       "Mango      0.986431  0.480902  0.490409  1.000000  0.727398   0.611354\n",
       "Peach      0.830190  0.951464  0.954754  0.727398  1.000000   0.987740\n",
       "Pineapple  0.732982  0.987843  0.989475  0.611354  0.987740   1.000000"
      ]
     },
     "execution_count": 18,
     "metadata": {},
     "output_type": "execute_result"
    }
   ],
   "source": [
    "cosine_df = pd.DataFrame(cosine_similarity(df), index=df.index, columns=df.index)\n",
    "cosine_df"
   ]
  },
  {
   "cell_type": "code",
   "execution_count": 19,
   "id": "5e791cfa-0359-4001-8cbe-8b069d4dda0e",
   "metadata": {},
   "outputs": [
    {
     "data": {
      "text/plain": [
       "array([[1.        , 0.77186848, 0.83412488, 0.92474189, 0.93676783, 0.87931265],\n",
       "       [0.77186848, 1.        , 0.97739451, 0.87650678, 0.94133956, 0.9780653 ],\n",
       "       [0.83412488, 0.97739451, 1.        , 0.95282112, 0.95471941, 0.96986632],\n",
       "       [0.92474189, 0.87650678, 0.95282112, 1.        , 0.94580335, 0.91804609],\n",
       "       [0.93676783, 0.94133956, 0.95471941, 0.94580335, 1.        , 0.98972148],\n",
       "       [0.87931265, 0.9780653 , 0.96986632, 0.91804609, 0.98972148, 1.        ]])"
      ]
     },
     "execution_count": 19,
     "metadata": {},
     "output_type": "execute_result"
    }
   ],
   "source": [
    "cosine_similarity(nutrition)"
   ]
  },
  {
   "cell_type": "code",
   "execution_count": null,
   "id": "46919786-57d3-469e-a526-def45a525cd2",
   "metadata": {},
   "outputs": [],
   "source": []
  },
  {
   "cell_type": "code",
   "execution_count": null,
   "id": "8dbaaa7b-b294-4517-a9c4-5ee2a5c0b561",
   "metadata": {},
   "outputs": [],
   "source": []
  },
  {
   "cell_type": "code",
   "execution_count": null,
   "id": "c1304455-cb8e-4009-8be2-2b2c119188ce",
   "metadata": {},
   "outputs": [],
   "source": []
  }
 ],
 "metadata": {
  "kernelspec": {
   "display_name": "Python [conda env:base] *",
   "language": "python",
   "name": "conda-base-py"
  },
  "language_info": {
   "codemirror_mode": {
    "name": "ipython",
    "version": 3
   },
   "file_extension": ".py",
   "mimetype": "text/x-python",
   "name": "python",
   "nbconvert_exporter": "python",
   "pygments_lexer": "ipython3",
   "version": "3.12.7"
  }
 },
 "nbformat": 4,
 "nbformat_minor": 5
}
