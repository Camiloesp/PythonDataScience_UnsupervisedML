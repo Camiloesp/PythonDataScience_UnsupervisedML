{
 "cells": [
  {
   "cell_type": "markdown",
   "id": "147d8a71-3016-4c19-aa37-467edbd5a8bb",
   "metadata": {},
   "source": [
    "# Recommenders"
   ]
  },
  {
   "cell_type": "markdown",
   "id": "ea54ce14-78b7-4ca3-8231-cfe53736f8ed",
   "metadata": {},
   "source": [
    "## Content-Based Filtering"
   ]
  },
  {
   "cell_type": "markdown",
   "id": "678bb25a-1154-419f-bcd7-0fc271438a78",
   "metadata": {},
   "source": [
    "### Cosine Similarity"
   ]
  },
  {
   "cell_type": "code",
   "execution_count": 2,
   "id": "0bb2a75a-ae2c-4b02-9142-670dfc82f39e",
   "metadata": {},
   "outputs": [
    {
     "data": {
      "text/html": [
       "<div>\n",
       "<style scoped>\n",
       "    .dataframe tbody tr th:only-of-type {\n",
       "        vertical-align: middle;\n",
       "    }\n",
       "\n",
       "    .dataframe tbody tr th {\n",
       "        vertical-align: top;\n",
       "    }\n",
       "\n",
       "    .dataframe thead th {\n",
       "        text-align: right;\n",
       "    }\n",
       "</style>\n",
       "<table border=\"1\" class=\"dataframe\">\n",
       "  <thead>\n",
       "    <tr style=\"text-align: right;\">\n",
       "      <th></th>\n",
       "      <th>fruit_100g</th>\n",
       "      <th>energy_kcal</th>\n",
       "      <th>water_g</th>\n",
       "      <th>protein_g</th>\n",
       "      <th>totalfat_g</th>\n",
       "      <th>fiber_g</th>\n",
       "      <th>sugars_g</th>\n",
       "      <th>vitaminc_mg</th>\n",
       "    </tr>\n",
       "  </thead>\n",
       "  <tbody>\n",
       "    <tr>\n",
       "      <th>0</th>\n",
       "      <td>Banana</td>\n",
       "      <td>89</td>\n",
       "      <td>74.9</td>\n",
       "      <td>1.09</td>\n",
       "      <td>0.33</td>\n",
       "      <td>2.6</td>\n",
       "      <td>12.20</td>\n",
       "      <td>8.7</td>\n",
       "    </tr>\n",
       "    <tr>\n",
       "      <th>1</th>\n",
       "      <td>Lemon</td>\n",
       "      <td>29</td>\n",
       "      <td>89.0</td>\n",
       "      <td>1.10</td>\n",
       "      <td>0.30</td>\n",
       "      <td>2.8</td>\n",
       "      <td>2.50</td>\n",
       "      <td>53.0</td>\n",
       "    </tr>\n",
       "    <tr>\n",
       "      <th>2</th>\n",
       "      <td>Lime</td>\n",
       "      <td>30</td>\n",
       "      <td>88.3</td>\n",
       "      <td>0.70</td>\n",
       "      <td>0.20</td>\n",
       "      <td>2.8</td>\n",
       "      <td>1.69</td>\n",
       "      <td>29.1</td>\n",
       "    </tr>\n",
       "    <tr>\n",
       "      <th>3</th>\n",
       "      <td>Mango</td>\n",
       "      <td>46</td>\n",
       "      <td>88.3</td>\n",
       "      <td>0.91</td>\n",
       "      <td>0.27</td>\n",
       "      <td>1.5</td>\n",
       "      <td>8.39</td>\n",
       "      <td>4.1</td>\n",
       "    </tr>\n",
       "    <tr>\n",
       "      <th>4</th>\n",
       "      <td>Peach</td>\n",
       "      <td>60</td>\n",
       "      <td>83.5</td>\n",
       "      <td>0.82</td>\n",
       "      <td>0.38</td>\n",
       "      <td>1.6</td>\n",
       "      <td>13.70</td>\n",
       "      <td>36.4</td>\n",
       "    </tr>\n",
       "    <tr>\n",
       "      <th>5</th>\n",
       "      <td>Pineapple</td>\n",
       "      <td>50</td>\n",
       "      <td>86.0</td>\n",
       "      <td>0.54</td>\n",
       "      <td>0.12</td>\n",
       "      <td>1.4</td>\n",
       "      <td>9.85</td>\n",
       "      <td>47.8</td>\n",
       "    </tr>\n",
       "  </tbody>\n",
       "</table>\n",
       "</div>"
      ],
      "text/plain": [
       "  fruit_100g  energy_kcal  water_g  protein_g  totalfat_g  fiber_g  sugars_g  \\\n",
       "0     Banana           89     74.9       1.09        0.33      2.6     12.20   \n",
       "1      Lemon           29     89.0       1.10        0.30      2.8      2.50   \n",
       "2       Lime           30     88.3       0.70        0.20      2.8      1.69   \n",
       "3      Mango           46     88.3       0.91        0.27      1.5      8.39   \n",
       "4      Peach           60     83.5       0.82        0.38      1.6     13.70   \n",
       "5  Pineapple           50     86.0       0.54        0.12      1.4      9.85   \n",
       "\n",
       "   vitaminc_mg  \n",
       "0          8.7  \n",
       "1         53.0  \n",
       "2         29.1  \n",
       "3          4.1  \n",
       "4         36.4  \n",
       "5         47.8  "
      ]
     },
     "execution_count": 2,
     "metadata": {},
     "output_type": "execute_result"
    }
   ],
   "source": [
    "import pandas as pd\n",
    "\n",
    "fruit_nutrition = pd.read_csv('Data/fruit_nutrition.csv')\n",
    "fruit_nutrition"
   ]
  },
  {
   "cell_type": "code",
   "execution_count": null,
   "id": "91c18d9d-20d6-415b-8cc8-df75749e8b89",
   "metadata": {},
   "outputs": [],
   "source": []
  },
  {
   "cell_type": "code",
   "execution_count": null,
   "id": "399fdde9-e652-42d2-acd3-77e0900b23ff",
   "metadata": {},
   "outputs": [],
   "source": []
  },
  {
   "cell_type": "code",
   "execution_count": null,
   "id": "b556256c-ecaf-4c42-9fe1-56fefc45b044",
   "metadata": {},
   "outputs": [],
   "source": []
  },
  {
   "cell_type": "code",
   "execution_count": null,
   "id": "ba017b8a-e50f-425b-991b-30cbfb832f2f",
   "metadata": {},
   "outputs": [],
   "source": []
  },
  {
   "cell_type": "code",
   "execution_count": null,
   "id": "f131ffb9-94e5-494b-a24a-7ed86ee41ab9",
   "metadata": {},
   "outputs": [],
   "source": []
  },
  {
   "cell_type": "code",
   "execution_count": null,
   "id": "35446de9-a86f-497f-a7de-12a38550e984",
   "metadata": {},
   "outputs": [],
   "source": []
  },
  {
   "cell_type": "code",
   "execution_count": null,
   "id": "883e2c57-71ee-4783-ad6d-986012d074cb",
   "metadata": {},
   "outputs": [],
   "source": []
  },
  {
   "cell_type": "code",
   "execution_count": null,
   "id": "c1304455-cb8e-4009-8be2-2b2c119188ce",
   "metadata": {},
   "outputs": [],
   "source": []
  }
 ],
 "metadata": {
  "kernelspec": {
   "display_name": "Python [conda env:base] *",
   "language": "python",
   "name": "conda-base-py"
  },
  "language_info": {
   "codemirror_mode": {
    "name": "ipython",
    "version": 3
   },
   "file_extension": ".py",
   "mimetype": "text/x-python",
   "name": "python",
   "nbconvert_exporter": "python",
   "pygments_lexer": "ipython3",
   "version": "3.12.7"
  }
 },
 "nbformat": 4,
 "nbformat_minor": 5
}
